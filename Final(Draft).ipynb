import numpy as np

import matplotlib.pyplot as plt

import pandas as pd



stat = pd.read_csv("stat.csv")
stat

       BAR CHARTS USING MATHPLOTLIB
N = 37
​
male = {1706342, 1929395, 2440390, 2520474, 2910084, 1034518, 2597192, 2608659, 1755836, 2541293, 1313347, 1939013, 1473572, 1995279, 1461481, 2427045, 2646816, 3732788, 5844506, 3542336, 2000348, 2023491, 1444239, 5631770, 1141406, 2473362, 2331974, 2113145, 2111517, 3490358, 1922920, 3251340, 2260783, 1392779, 1460530, 2026186, 1253042}
​x = np.arange(N)
width = 0.80
​
​
p = plt.bar(x, male, width, color ="darkblue")
​
plt.ylabel("Population")
plt.title("MALE POPULATION DATA 2012")
​
plt.xticks(x, {"Abia", "Adamawa", "Akwa Ibom", "Anambra", "Bauchi", "Bayelsa", "Benue", "Borno", "Cross Rivers", "Delta", "Ebonyi", "Edo", "Ekiti", "Enugu", "Gombe", "Imo", "Jigawa", "Kaduna", "Kano", "Katsina", "Kebbi", "Kogi", "Kwara", "Lagos", "Nasarawa", "Niger", "Ogun", "Ondo", "Osun", "Oyo", "Plateau", "Rivers", "Sokoto", "Taraba", "Yobe", "Zamafara", "FCT Abuja"}, rotation=90)
​
plt.show()

female = {1639427, 1853732, 2344688, 2421632, 2795963, 993949, 2495341, 2506358, 1686980, 2441635, 1261843, 1862973, 1415785, 1917032, 1404168, 2331867, 2543019, 3586404, 5615310, 3403421, 1921903, 1944139, 1387602, 5410916, 1096645, 2376368, 2240524, 2030277, 2028712, 3353482, 1847512, 3123836, 2172125, 1338160, 1403255, 1946728, 1203903}
​
x = np.arange(N)
width = 0.80
​
​
p = plt.bar(x, female, width, color ="hotpink")
​
plt.ylabel("Population")
plt.title("FEMALE POPULATION DATA 2012")
​
plt.xticks(x, {"Abia", "Adamawa", "Akwa Ibom", "Anambra", "Bauchi", "Bayelsa", "Benue", "Borno", "Cross Rivers", "Delta", "Ebonyi", "Edo", "Ekiti", "Enugu", "Gombe", "Imo", "Jigawa", "Kaduna", "Kano", "Katsina", "Kebbi", "Kogi", "Kwara", "Lagos", "Nasarawa", "Niger", "Ogun", "Ondo", "Osun", "Oyo", "Plateau", "Rivers", "Sokoto", "Taraba", "Yobe", "Zamafara", "FCT Abuja"}, rotation=90)
​
plt.show()

total = {3345769, 3783127, 4785078, 4942106, 5706046, 2028468, 5092533, 5115017, 3442816, 4982928, 2575190, 3801987, 2889357, 3912311, 2865649, 4758912, 5189835, 7319192, 11459817, 6945757, 3922250, 3967630, 2831842, 11042686, 2238051, 4849730, 4572499, 4143422, 4140228, 6843840, 3770432, 6375176, 4432908, 2730940, 2863785, 3972914 ,2456945}
​
x= np.arange(N)
width = 0.80
​
​
p = plt.bar(x, total, width, color ="red")
​
plt.ylabel("Population")
plt.title("TOTAL POPULATION DATA 2012")
​
plt.xticks(x, {"Abia", "Adamawa", "Akwa Ibom", "Anambra", "Bauchi", "Bayelsa", "Benue", "Borno", "Cross Rivers", "Delta", "Ebonyi", "Edo", "Ekiti", "Enugu", "Gombe", "Imo", "Jigawa", "Kaduna", "Kano", "Katsina", "Kebbi", "Kogi", "Kwara", "Lagos", "Nasarawa", "Niger", "Ogun", "Ondo", "Osun", "Oyo", "Plateau", "Rivers", "Sokoto", "Taraba", "Yobe", "Zamafara", "FCT Abuja"}, rotation=90)
​
plt.show()

import plotly
import pandas as pd
import plotly.graph_objs as go
import plotly.express as px
import plotly.io as pio
stat = pd.read_csv("stat.csv")
import json
nigeria_states = json.load(open("nigeria_geojson.geojson", "r"))
nigeria_states["features"][0]["properties"].keys()
​
dict_keys(['objectid', 'statecode', 'state', 'capcity', 'source', 'timestamp', 'globalid', 'shape_area', 'shape_len', 'geozone', 'cartodb_id', 'created_at', 'updated_at'])
state_id_map = {}
for feature in nigeria_states["features"]:
    feature["id"] = feature["properties"]["statecode"]
    state_id_map[feature["properties"]["state"]] = feature["id"]
​
​
stat["id"] = stat["STATE"].apply(lambda x: state_id_map[x])
fig = px.choropleth(stat, geojson=nigeria_states, locations='id', color='TOTAL',scope = "africa", hover_name = "STATE", hover_data = ["TOTAL"])
fig.update_geos(fitbounds="locations", visible=False)
fig.show()


